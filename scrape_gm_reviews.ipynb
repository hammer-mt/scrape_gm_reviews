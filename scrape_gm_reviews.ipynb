{
  "nbformat": 4,
  "nbformat_minor": 0,
  "metadata": {
    "colab": {
      "name": "scrape_gm_reviews.ipynb",
      "provenance": []
    },
    "kernelspec": {
      "name": "python3",
      "display_name": "Python 3"
    }
  },
  "cells": [
    {
      "cell_type": "markdown",
      "metadata": {
        "id": "tgsD0kVAtRQA"
      },
      "source": [
        "Scrape your growth mentor reviews and save to a CSV\n"
      ]
    },
    {
      "cell_type": "code",
      "metadata": {
        "id": "e3JPmoGzvgIp",
        "outputId": "30fd5709-8c12-4f8b-c3f9-fa7337080624",
        "colab": {
          "base_uri": "https://localhost:8080/",
          "height": 119
        }
      },
      "source": [
        "# Install packages\n",
        "!pip3 install requests\n",
        "!pip3 install beautifulsoup4"
      ],
      "execution_count": null,
      "outputs": [
        {
          "output_type": "stream",
          "text": [
            "Requirement already satisfied: requests in /usr/local/lib/python3.6/dist-packages (2.23.0)\n",
            "Requirement already satisfied: chardet<4,>=3.0.2 in /usr/local/lib/python3.6/dist-packages (from requests) (3.0.4)\n",
            "Requirement already satisfied: idna<3,>=2.5 in /usr/local/lib/python3.6/dist-packages (from requests) (2.10)\n",
            "Requirement already satisfied: certifi>=2017.4.17 in /usr/local/lib/python3.6/dist-packages (from requests) (2020.6.20)\n",
            "Requirement already satisfied: urllib3!=1.25.0,!=1.25.1,<1.26,>=1.21.1 in /usr/local/lib/python3.6/dist-packages (from requests) (1.24.3)\n",
            "Requirement already satisfied: beautifulsoup4 in /usr/local/lib/python3.6/dist-packages (4.6.3)\n"
          ],
          "name": "stdout"
        }
      ]
    },
    {
      "cell_type": "code",
      "metadata": {
        "id": "WAMvwsnvv2tF"
      },
      "source": [
        "# Import libraries\n",
        "import requests\n",
        "from bs4 import BeautifulSoup\n",
        "from tqdm import tqdm\n",
        "import pandas as pd\n",
        "import datetime as dt\n",
        "from google.colab import files"
      ],
      "execution_count": null,
      "outputs": []
    },
    {
      "cell_type": "code",
      "metadata": {
        "id": "RUDXdbOPv92q",
        "outputId": "90f8909c-dd90-4057-bfd8-99292fdcc732",
        "colab": {
          "base_uri": "https://localhost:8080/",
          "height": 442
        }
      },
      "source": [
        "# Pull page data\n",
        "URL = 'https://app.growthmentor.com/michael-taylor' #@param {type:\"string\"}\n",
        "page = requests.get(URL)\n",
        "soup = BeautifulSoup(page.content, 'html.parser')\n",
        "\n",
        "review_rows = soup.find_all('div', class_='row mb-4')\n",
        "print(f\"Reviews: {len(review_rows)}\")\n",
        "print(review_rows[0].prettify())"
      ],
      "execution_count": null,
      "outputs": [
        {
          "output_type": "stream",
          "text": [
            "Reviews: 70\n",
            "<div class=\"row mb-4\">\n",
            " <div class=\"col-4 col-md-2\">\n",
            "  <img class=\"rounded-circle avatar-size-sm\" src=\"/assets/user_placeholder-90c6a1183783e0460c7be2cf44de9c589b75f1c7590c67767ddb44fe9875199e.svg\"/>\n",
            "  <div class=\"small font-weight-bold\">\n",
            "   Steven Ammann\n",
            "  </div>\n",
            "  <div class=\"small text-opacity-05\">\n",
            "   1 session\n",
            "  </div>\n",
            "  <div class=\"small text-opacity-05\">\n",
            "   8 Oct 2020\n",
            "  </div>\n",
            " </div>\n",
            " <div class=\"col-8 col-md-10\">\n",
            "  <div class=\"card card--has-no-border card--has-shadow card-review\">\n",
            "   <div class=\"card-body\">\n",
            "    <p>\n",
            "     Michael was very knowledgeable and helpful. Thanks\n",
            "    </p>\n",
            "   </div>\n",
            "  </div>\n",
            " </div>\n",
            "</div>\n",
            "\n"
          ],
          "name": "stdout"
        }
      ]
    },
    {
      "cell_type": "code",
      "metadata": {
        "id": "WQjxJNRVwOYT",
        "outputId": "0d9fdbbb-e176-4e7b-a9bf-b12000949c4b",
        "colab": {
          "base_uri": "https://localhost:8080/",
          "height": 35
        }
      },
      "source": [
        "# Get name\n",
        "review_rows[0].div.div.text"
      ],
      "execution_count": null,
      "outputs": [
        {
          "output_type": "execute_result",
          "data": {
            "application/vnd.google.colaboratory.intrinsic+json": {
              "type": "string"
            },
            "text/plain": [
              "'Steven Ammann'"
            ]
          },
          "metadata": {
            "tags": []
          },
          "execution_count": 32
        }
      ]
    },
    {
      "cell_type": "code",
      "metadata": {
        "id": "rLZMNfgW0R3o",
        "outputId": "1df5f5ba-5059-40da-b0b3-4c8e9b3a7434",
        "colab": {
          "base_uri": "https://localhost:8080/",
          "height": 35
        }
      },
      "source": [
        "# Get date\n",
        "review_rows[0].div.contents[-1].text.strip()"
      ],
      "execution_count": null,
      "outputs": [
        {
          "output_type": "execute_result",
          "data": {
            "application/vnd.google.colaboratory.intrinsic+json": {
              "type": "string"
            },
            "text/plain": [
              "'8 Oct 2020'"
            ]
          },
          "metadata": {
            "tags": []
          },
          "execution_count": 43
        }
      ]
    },
    {
      "cell_type": "code",
      "metadata": {
        "id": "NhVVoboNw8LD",
        "outputId": "3d416b56-5316-4fa2-a1c3-5e43a6a7619f",
        "colab": {
          "base_uri": "https://localhost:8080/",
          "height": 35
        }
      },
      "source": [
        "# Get review\n",
        "review_rows[0].p.text"
      ],
      "execution_count": null,
      "outputs": [
        {
          "output_type": "execute_result",
          "data": {
            "application/vnd.google.colaboratory.intrinsic+json": {
              "type": "string"
            },
            "text/plain": [
              "'Michael was very knowledgeable and helpful. Thanks'"
            ]
          },
          "metadata": {
            "tags": []
          },
          "execution_count": 49
        }
      ]
    },
    {
      "cell_type": "code",
      "metadata": {
        "id": "ugQzHy2J1uCk",
        "outputId": "7b30534d-176b-4890-aba1-ed6e44b7a775",
        "colab": {
          "base_uri": "https://localhost:8080/",
          "height": 35
        }
      },
      "source": [
        "# Get photo\n",
        "review_rows[0].div.img['src']"
      ],
      "execution_count": null,
      "outputs": [
        {
          "output_type": "execute_result",
          "data": {
            "application/vnd.google.colaboratory.intrinsic+json": {
              "type": "string"
            },
            "text/plain": [
              "'/assets/user_placeholder-90c6a1183783e0460c7be2cf44de9c589b75f1c7590c67767ddb44fe9875199e.svg'"
            ]
          },
          "metadata": {
            "tags": []
          },
          "execution_count": 50
        }
      ]
    },
    {
      "cell_type": "code",
      "metadata": {
        "id": "8JpPK_S8zY54",
        "outputId": "61eaa2fc-a7da-410e-899d-80ad91a801ed",
        "colab": {
          "base_uri": "https://localhost:8080/",
          "height": 238
        }
      },
      "source": [
        "# Scrape all reviews\n",
        "reviews = list()\n",
        "for row in tqdm(review_rows):\n",
        "    review = dict()\n",
        "    review['Name'] = row.div.div.text\n",
        "    review['Date'] = row.div.contents[-1].text.strip()\n",
        "    review['Review'] = row.p.text\n",
        "    photo = row.div.img['src']\n",
        "    if '/rails/active_storage/' in photo or '/assets/user_placeholder-' in photo:\n",
        "        review['Photo'] = 'https://app.growthmentor.com' + photo\n",
        "    else:\n",
        "        review['Photo'] = photo\n",
        "\n",
        "    reviews.append(review)\n",
        "\n",
        "df = pd.DataFrame(reviews)\n",
        "df.head()"
      ],
      "execution_count": null,
      "outputs": [
        {
          "output_type": "stream",
          "text": [
            "100%|██████████| 70/70 [00:00<00:00, 4053.36it/s]"
          ],
          "name": "stderr"
        },
        {
          "output_type": "stream",
          "text": [
            "70\n"
          ],
          "name": "stdout"
        },
        {
          "output_type": "stream",
          "text": [
            "\n"
          ],
          "name": "stderr"
        },
        {
          "output_type": "execute_result",
          "data": {
            "text/html": [
              "<div>\n",
              "<style scoped>\n",
              "    .dataframe tbody tr th:only-of-type {\n",
              "        vertical-align: middle;\n",
              "    }\n",
              "\n",
              "    .dataframe tbody tr th {\n",
              "        vertical-align: top;\n",
              "    }\n",
              "\n",
              "    .dataframe thead th {\n",
              "        text-align: right;\n",
              "    }\n",
              "</style>\n",
              "<table border=\"1\" class=\"dataframe\">\n",
              "  <thead>\n",
              "    <tr style=\"text-align: right;\">\n",
              "      <th></th>\n",
              "      <th>Name</th>\n",
              "      <th>Date</th>\n",
              "      <th>Review</th>\n",
              "      <th>Photo</th>\n",
              "    </tr>\n",
              "  </thead>\n",
              "  <tbody>\n",
              "    <tr>\n",
              "      <th>0</th>\n",
              "      <td>Steven Ammann</td>\n",
              "      <td>8 Oct 2020</td>\n",
              "      <td>Michael was very knowledgeable and helpful. Th...</td>\n",
              "      <td>https://app.growthmentor.com/assets/user_place...</td>\n",
              "    </tr>\n",
              "    <tr>\n",
              "      <th>1</th>\n",
              "      <td>Krzysztof Gilowski</td>\n",
              "      <td>22 Sep 2020</td>\n",
              "      <td>Had a great session with Michael! He helped me...</td>\n",
              "      <td>https://lh3.googleusercontent.com/a-/AOh14Gi1c...</td>\n",
              "    </tr>\n",
              "    <tr>\n",
              "      <th>2</th>\n",
              "      <td>Keane Angle</td>\n",
              "      <td>17 Sep 2020</td>\n",
              "      <td>Michael was a fire hydrant of useful informati...</td>\n",
              "      <td>https://lh3.googleusercontent.com/a-/AOh14GgMs...</td>\n",
              "    </tr>\n",
              "    <tr>\n",
              "      <th>3</th>\n",
              "      <td>Tarek Harb</td>\n",
              "      <td>13 Sep 2020</td>\n",
              "      <td>Looking forward to working with Michael!</td>\n",
              "      <td>https://lh6.googleusercontent.com/-yl3UMsqtvMI...</td>\n",
              "    </tr>\n",
              "    <tr>\n",
              "      <th>4</th>\n",
              "      <td>Tam Nguyen</td>\n",
              "      <td>11 Sep 2020</td>\n",
              "      <td>Michael helps me to understand complex concept...</td>\n",
              "      <td>https://media-exp1.licdn.com/dms/image/C5103AQ...</td>\n",
              "    </tr>\n",
              "  </tbody>\n",
              "</table>\n",
              "</div>"
            ],
            "text/plain": [
              "                 Name  ...                                              Photo\n",
              "0       Steven Ammann  ...  https://app.growthmentor.com/assets/user_place...\n",
              "1  Krzysztof Gilowski  ...  https://lh3.googleusercontent.com/a-/AOh14Gi1c...\n",
              "2         Keane Angle  ...  https://lh3.googleusercontent.com/a-/AOh14GgMs...\n",
              "3          Tarek Harb  ...  https://lh6.googleusercontent.com/-yl3UMsqtvMI...\n",
              "4          Tam Nguyen  ...  https://media-exp1.licdn.com/dms/image/C5103AQ...\n",
              "\n",
              "[5 rows x 4 columns]"
            ]
          },
          "metadata": {
            "tags": []
          },
          "execution_count": 61
        }
      ]
    },
    {
      "cell_type": "code",
      "metadata": {
        "id": "LeqPgSKp4NKe",
        "outputId": "f5801ce2-ac99-4eaa-ae6c-5a40cebb8a49",
        "colab": {
          "base_uri": "https://localhost:8080/",
          "height": 34
        }
      },
      "source": [
        "# Reviews scraped\n",
        "len(df)"
      ],
      "execution_count": null,
      "outputs": [
        {
          "output_type": "execute_result",
          "data": {
            "text/plain": [
              "70"
            ]
          },
          "metadata": {
            "tags": []
          },
          "execution_count": 62
        }
      ]
    },
    {
      "cell_type": "code",
      "metadata": {
        "id": "tXTKfuHG4YcX",
        "outputId": "25830b81-1c5e-4317-84f7-6ae09f23c133",
        "colab": {
          "base_uri": "https://localhost:8080/",
          "height": 17
        }
      },
      "source": [
        "# Save reviews to CSV\n",
        "date = dt.datetime.now().strftime(\"%Y-%m-%d\")\n",
        "filename = f\"growth_mentor_reviews_{date}.csv\"\n",
        "df.to_csv(filename, index=False)\n",
        "files.download(filename)"
      ],
      "execution_count": null,
      "outputs": [
        {
          "output_type": "display_data",
          "data": {
            "application/javascript": [
              "\n",
              "    async function download(id, filename, size) {\n",
              "      if (!google.colab.kernel.accessAllowed) {\n",
              "        return;\n",
              "      }\n",
              "      const div = document.createElement('div');\n",
              "      const label = document.createElement('label');\n",
              "      label.textContent = `Downloading \"${filename}\": `;\n",
              "      div.appendChild(label);\n",
              "      const progress = document.createElement('progress');\n",
              "      progress.max = size;\n",
              "      div.appendChild(progress);\n",
              "      document.body.appendChild(div);\n",
              "\n",
              "      const buffers = [];\n",
              "      let downloaded = 0;\n",
              "\n",
              "      const channel = await google.colab.kernel.comms.open(id);\n",
              "      // Send a message to notify the kernel that we're ready.\n",
              "      channel.send({})\n",
              "\n",
              "      for await (const message of channel.messages) {\n",
              "        // Send a message to notify the kernel that we're ready.\n",
              "        channel.send({})\n",
              "        if (message.buffers) {\n",
              "          for (const buffer of message.buffers) {\n",
              "            buffers.push(buffer);\n",
              "            downloaded += buffer.byteLength;\n",
              "            progress.value = downloaded;\n",
              "          }\n",
              "        }\n",
              "      }\n",
              "      const blob = new Blob(buffers, {type: 'application/binary'});\n",
              "      const a = document.createElement('a');\n",
              "      a.href = window.URL.createObjectURL(blob);\n",
              "      a.download = filename;\n",
              "      div.appendChild(a);\n",
              "      a.click();\n",
              "      div.remove();\n",
              "    }\n",
              "  "
            ],
            "text/plain": [
              "<IPython.core.display.Javascript object>"
            ]
          },
          "metadata": {
            "tags": []
          }
        },
        {
          "output_type": "display_data",
          "data": {
            "application/javascript": [
              "download(\"download_6c68fb6b-9867-43fd-8186-509a86a93765\", \"growth_mentor_reviews_2020-10-12.csv\", 35423)"
            ],
            "text/plain": [
              "<IPython.core.display.Javascript object>"
            ]
          },
          "metadata": {
            "tags": []
          }
        }
      ]
    },
    {
      "cell_type": "code",
      "metadata": {
        "id": "GU0cUiK96OAg"
      },
      "source": [
        ""
      ],
      "execution_count": null,
      "outputs": []
    }
  ]
}